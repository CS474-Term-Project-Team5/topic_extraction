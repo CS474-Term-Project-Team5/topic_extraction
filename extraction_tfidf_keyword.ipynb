{
 "metadata": {
  "language_info": {
   "codemirror_mode": {
    "name": "ipython",
    "version": 3
   },
   "file_extension": ".py",
   "mimetype": "text/x-python",
   "name": "python",
   "nbconvert_exporter": "python",
   "pygments_lexer": "ipython3",
   "version": "3.8"
  },
  "orig_nbformat": 2,
  "kernelspec": {
   "name": "python3",
   "display_name": "Python 3.8  ('anaconda3': virtualenv)"
  }
 },
 "nbformat": 4,
 "nbformat_minor": 2,
 "cells": [
  {
   "cell_type": "code",
   "execution_count": 1,
   "metadata": {},
   "outputs": [
    {
     "output_type": "stream",
     "name": "stderr",
     "text": [
      "[nltk_data] Downloading package stopwords to /root/nltk_data...\n[nltk_data]   Package stopwords is already up-to-date!\n[nltk_data] Downloading package wordnet to /root/nltk_data...\n[nltk_data]   Package wordnet is already up-to-date!\n"
     ]
    }
   ],
   "source": [
    "import pandas as pd\n",
    "import re\n",
    "import nltk\n",
    "import pickle\n",
    "from nltk.corpus import stopwords\n",
    "from nltk.stem import WordNetLemmatizer\n",
    "import ast\n",
    "import spacy\n",
    "\n",
    "nltk.download('stopwords')\n",
    "nltk.download('wordnet')\n",
    "stemmer = WordNetLemmatizer()"
   ]
  },
  {
   "cell_type": "code",
   "execution_count": 2,
   "metadata": {},
   "outputs": [],
   "source": [
    "target = pd.read_csv('data/korea_herald_2015_30_ver_preprocessing.csv')"
   ]
  },
  {
   "cell_type": "code",
   "execution_count": 53,
   "metadata": {},
   "outputs": [],
   "source": [
    "def preprocessing(rawtext):\n",
    "    document = rawtext\n",
    "    document = re.sub(r'said', '', document)\n",
    "\n",
    "    dates = ['monday', 'tuesday', 'wednesday', 'thursday', 'friday', 'saturday', 'sunday', 'week', 'next', 'month', 'year']\n",
    "    for date in dates:\n",
    "        document = re.sub(r'{}'.format(date), '', document)\n",
    "    \n",
    "    document = re.sub(r'korea herald', ' ', document)\n",
    "    document = re.sub(r'history textbooks', ' ', document)\n",
    "    document = re.sub(r'history textbook', ' ', document)\n",
    "\n",
    "    # Remove president name\n",
    "    document = re.sub(r'president park', ' ', document)\n",
    "    document = re.sub(r'south korea', ' ', document)\n",
    "    document = re.sub(r'north korea', ' ', document)\n",
    "    document = re.sub(r'seoul', ' ', document)\n",
    "    document = re.sub(r'korean geun', ' ', document)\n",
    "    document = re.sub(r'geun', ' ', document)\n",
    "    document = re.sub(r'geun hye', ' ', document)\n",
    "    document = re.sub(r'president hye', ' ', document)\n",
    "\n",
    "    document = re.sub(r'\\s+', ' ', document)\n",
    "    return document\n",
    "    \n",
    "def remove_duplicates(candidates):\n",
    "    result = []\n",
    "    for cand in candidates:\n",
    "        is_duplicate = False\n",
    "        for cand2 in candidates:\n",
    "            if cand == cand2:\n",
    "                continue\n",
    "            if cand in cand2:\n",
    "                is_duplicate = True\n",
    "                break\n",
    "        if not is_duplicate:\n",
    "            result.append(cand)\n",
    "    return result\n",
    "    "
   ]
  },
  {
   "cell_type": "code",
   "execution_count": 60,
   "metadata": {
    "tags": []
   },
   "outputs": [
    {
     "output_type": "stream",
     "name": "stdout",
     "text": [
      "max frequency 9\n",
      "==========[0]:249==========\n",
      "['china launched', 'korean war', 'donald trump', 'barack obama', 'president barack', 'korea japan', 'nuclear envoy', 'hye pledged', 'postpone trip', 'trip postpone', 'trip postpone trip', 'foreign minister', 'runner donald', 'runner donald trump', 'stage winter drills', 'president barack obama', 'winter drills', 'stage winter', 'china launched china', 'china china']\n",
      "max frequency 54\n",
      "==========[1, 13, 16, 19]:1049==========\n",
      "['nuclear weapons', 'nuclear test', 'korea nuclear', 'military drills', 'ballistic missile', 'nuclear tests', 'korea china', 'inter korean', 'nuclear korea', 'new nuclear', 'nuclear warheads', 'nuclear envoy', 'suspend nuclear', 'nuclear talks', 'rocket launch', 'urges korea', 'nuclear program', 'nuclear deal', 'suspend nuclear tests', 'korea korea']\n",
      "max frequency 10\n",
      "==========[2]:179==========\n",
      "['financial regulator', 'youth unemployment', 'fourth largest', 'top 30', 'climate change', '20 million', 'korea top', 'largest economy', '17 billion', 'fourth largest economy', 'high youth', '4th highest', 'antitrust watchdog', 'high youth unemployment', '10 percent', 'highest smartphone', '10 billion', 'top financial regulator', 'top financial', 'korea pledges']\n",
      "max frequency 70\n",
      "==========[3, 5, 11]:588==========\n",
      "['sex slavery', 'korean women', 'sex slaves', 'japan wartime', 'sexual slavery', 'wartime sex', 'wartime sexual', 'wartime sex slavery', 'korean slave', 'enslavement korean', 'wartime sexual slavery', 'japanese prime', 'sexual enslavement', 'japanese hostage', 'japan wartime sexual', 'japan sex', 'slavery japanese', 'prime minister', 'enslavement korean women', 'found dead']\n",
      "max frequency 23\n",
      "==========[4]:268==========\n",
      "['former president', 'president korea', 'president kim', 'foreign minister', 'presidential spokesman', 'late president', 'presidential office', 'inter korean', 'visit china', 'presidential election', 'opposition leader', 'winter olympics', 'ex president', 'apec asean', 'korea president', 'asean summits', 'labor reform', 'climate change', 'visit korea', 'summit president']\n",
      "max frequency 22\n",
      "==========[6]:352==========\n",
      "['visit korea', 'korea korea', 'foreign minister', 'beijing beijing', 'former president', 'top diplomat', 'military parade', 'nuclear envoy', 'meeting meeting', 'visit korea korea', '70th anniversary', 'tokyo discuss', 'discuss pyongyang', 'chinese tourists', 'korea last', 'japan japan', 'visit china', 'visits korea', 'barack obama', 'beijing canceled']\n",
      "max frequency 37\n",
      "==========[7, 23]:477==========\n",
      "['arrest warrant', 'prosecutors raided', 'jail term', 'attempted murder', 'bribery scandal', 'court sentenced', 'bribery charges', 'alleged bribery', 'bribery former', 'corruption scandal', 'former president', 'indicted bribery', 'corruption prosecutors', 'prosecutors prosecutors', 'deceased businessman', 'probe prosecutors', 'court acquitted', 'embezzlement prosecutors', 'bribery probe', 'alleged corruption']\n",
      "max frequency 30\n",
      "==========[8, 9]:457==========\n",
      "['opposition party', 'new politics', 'prime minister', 'main opposition', 'rival parties', 'ruling party', 'floor leader', 'parties agreed', 'bribery scandal', 'presidential election', 'national assembly', 'opposition new', 'political parties', 'opposition new politics', 'party lawmaker', 'main opposition new', 'main opposition new politics', 'saenuri party', 'opposition lawmakers', '2017 presidential']\n",
      "max frequency 40\n",
      "==========[10, 12]:353==========\n",
      "['fishing boat', 'capsized fishing', 'found dead', 'capsized fishing boat', 'ferry sinking', 'killing four', 'helicopter crashed', 'deadly ferry', 'guard helicopter', 'knife attack', 'helicopter crash', 'sunken ferry', 'four workers', 'killing two', 'boat capsized', 'guard helicopter crashed', 'killing four workers', 'last killing', 'capsized boat', 'korean teenager']\n",
      "max frequency 25\n",
      "==========[14, 28, 29]:505==========\n",
      "['korean women', 'female activists', 'survey showed', 'anti pyongyang', 'data showed', 'korean parents', 'protest rally', '30 female', '30 female activists', 'korean men', 'elderly women', 'government data', 'poll showed', 'female students', 'college students', 'violent protest', 'massive protest', 'old housewife', 'rally protest', 'government data showed']\n",
      "max frequency 25\n",
      "==========[15]:186==========\n",
      "['opposition lawmakers', 'opposition party', 'ruling party', 'main opposition', 'opposition lawmaker', 'party lawmaker', 'rival parties', 'party leader', 'prime minister', 'lawmakers quit', 'presidential candidate', 'factional feud', 'ex president', 'denies bribery', 'new politics', 'opposition new politics', 'main opposition new', 'saenuri party', 'protests delayed', 'opposition new']\n",
      "max frequency 25\n",
      "==========[17]:171==========\n",
      "['respiratory syndrome', 'new cases', 'bird flu', 'korea reports', 'samsung medical', 'death toll', 'avian influenza', 'korea reported', 'new patients', 'korea confirmed', 'three new', 'reported three', 'health authorities', 'since june', 'two deaths', 'four patients', 'reports new', 'korea reports new', 'mers patient', 'reported four']\n",
      "max frequency 99\n",
      "==========[18, 26, 27]:979==========\n",
      "['military parade', 'barack obama', 'president barack', 'family reunions', 'president barack obama', 'korean war', 'parade china', 'korean president', 'nuclear talks', 'foreign minister', 'former president', 'korean korean', '70th anniversary', 'anniversary korea', 'inter korean', 'president korean', 'chinese military', 'nuclear envoy', 'family reunion', 'climate change']\n",
      "max frequency 12\n",
      "==========[20]:181==========\n",
      "['severe drought', 'fourth largest', 'largest economy', 'third largest', 'fourth largest economy', 'foreign tourists', 'wage hike', 'illegal fishing', 'chinese tourists', 'nuclear reactor', 'death toll', 'asia fourth largest', 'asia fourth', 'third largest steelmaker', 'new tunnel', 'climate change', 'four conglomerates', 'second largest', 'world worst', 'largest steelmaker']\n",
      "max frequency 13\n",
      "==========[21]:362==========\n",
      "['korean war', '2015 world', 'olympic swimming', 'daejeon 2015', 'climate change', 'world science', 'war veterans', 'korean war veterans', 'daejeon 2015 world', 'visited korea', '2015 world science', 'food 2015', 'trade fair', 'meeting daejeon', 'cab drivers', 'largest smartphone', 'meeting daejeon 2015', 'largest online', 'world best', 'world largest']\n",
      "max frequency 9\n",
      "==========[22]:172==========\n",
      "['suicide rate', 'korean soldier', 'korean war', 'soldier defected', 'korea korean', 'young koreans', 'sex slaves', 'soldier defected korean', 'first nuclear', 'korean companies', 'defected korean', 'defected korean soldier', 'korean lawmakers', 'fifth largest', 'new ambassador', 'korean soldier defected', 'rapidly aging', 'worst drought', 'soldier defected korean soldier', '550 prisoners']\n",
      "max frequency 8\n",
      "==========[24]:171==========\n",
      "['military parade', 'trade fair', 'annual trade fair', 'annual trade', '500 000', 'huge military parade', 'huge military', '16th anniversary', 'blue ocean', 'experts disapprove', 'anti pyongyang', 'bird flu', 'russian hackers', '30 refugees', 'mid october', 'chinese president', 'parliamentary elections', 'female comedians', 'cut tax', '100 000']\n",
      "max frequency 10\n",
      "==========[25]:284==========\n",
      "['korean government', 'air force', 'pyongyang media', 'foreign ministry', 'media reported', 'state media', 'unification ministry', 'koreans convicted', 'president barack', 'finance ministry', 'first lady', 'barack obama', 'korean official', 'japanese prime', 'eradicate bird', 'island killing', 'defense ministry', 'defense minister', 'build second', 'recent test']\n",
      "============================\n"
     ]
    }
   ],
   "source": [
    "from sklearn.feature_extraction.text import CountVectorizer\n",
    "from sklearn.feature_extraction.text import TfidfTransformer\n",
    "\n",
    "updated_cluster = [[0], [1, 13, 16, 19], [2], [3, 5, 11], [4], [6], [7, 23], [8, 9], [10, 12], [14, 28, 29], [15], [17], [18, 26, 27], [20], [21], [22], [24], [25]]\n",
    "\n",
    "for i in updated_cluster:\n",
    "    keyword_set = target[target['cluster'].isin(i)].keyword\n",
    "    doc_num = len(keyword_set)\n",
    "    # keyword_set = [preprocessing(keyword) for keyword_list in keyword_set for keyword in keyword_list]\n",
    "    # keyword_text = ''.join(keyword_set)\n",
    "    keyword_set = [preprocessing(keyword.replace(' ,', ' ')) for keyword in keyword_set]\n",
    "\n",
    "    vectorizer = CountVectorizer(max_features=1500, ngram_range=(2, 5), min_df=1, max_df=doc_num/3, stop_words=stopwords.words('english'))\n",
    "    X_count = vectorizer.fit_transform(keyword_set).toarray()\n",
    "    X_tfidf = TfidfTransformer().fit_transform(X_count).toarray()\n",
    "\n",
    "    result = pd.DataFrame(X_count, columns= vectorizer.get_feature_names())\n",
    "    print('max frequency', max(result.sum(axis=0)))\n",
    "    result = list(result.sum(axis=0).sort_values(ascending=False).keys()[:100])\n",
    "\n",
    "    print('=========={}:{}=========='.format(i, doc_num))\n",
    "    # print(remove_duplicates(result)[:15])\n",
    "    print(result[:20])\n",
    "print('============================')\n",
    "\n"
   ]
  },
  {
   "cell_type": "code",
   "execution_count": null,
   "metadata": {},
   "outputs": [],
   "source": []
  },
  {
   "cell_type": "code",
   "execution_count": null,
   "metadata": {},
   "outputs": [],
   "source": []
  }
 ]
}