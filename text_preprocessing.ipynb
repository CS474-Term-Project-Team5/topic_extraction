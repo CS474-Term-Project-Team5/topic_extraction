{
 "metadata": {
  "language_info": {
   "codemirror_mode": {
    "name": "ipython",
    "version": 3
   },
   "file_extension": ".py",
   "mimetype": "text/x-python",
   "name": "python",
   "nbconvert_exporter": "python",
   "pygments_lexer": "ipython3",
   "version": ""
  },
  "orig_nbformat": 2,
  "kernelspec": {
   "name": "python3",
   "display_name": "Python 3.8.8 64-bit ('base': conda)"
  }
 },
 "nbformat": 4,
 "nbformat_minor": 2,
 "cells": [
  {
   "cell_type": "code",
   "execution_count": 1,
   "metadata": {},
   "outputs": [
    {
     "output_type": "stream",
     "name": "stderr",
     "text": [
      "[nltk_data] Downloading package stopwords to /root/nltk_data...\n[nltk_data]   Package stopwords is already up-to-date!\n[nltk_data] Downloading package wordnet to /root/nltk_data...\n[nltk_data]   Package wordnet is already up-to-date!\n"
     ]
    }
   ],
   "source": [
    "import pandas as pd\n",
    "import re\n",
    "import nltk\n",
    "import pickle\n",
    "from nltk.corpus import stopwords\n",
    "from nltk.stem import WordNetLemmatizer\n",
    "import ast\n",
    "import spacy\n",
    "\n",
    "nltk.download('stopwords')\n",
    "nltk.download('wordnet')\n",
    "stemmer = WordNetLemmatizer()"
   ]
  },
  {
   "cell_type": "code",
   "execution_count": 2,
   "metadata": {},
   "outputs": [],
   "source": [
    "def preprocess_text(raw_text):\n",
    "    document = raw_text\n",
    "\n",
    "    # Removing name of new company\n",
    "    document = re.sub(r'Yonhap', '', document)\n",
    "    document = re.sub(r'dyc', '', document)\n",
    "    document = re.sub(r'heraldcorp', '', document)\n",
    "    document = re.sub(r'herald corp', '', document)\n",
    "    document = re.sub(r'herald', '', document)\n",
    "    document = re.sub(r'com', '', document)\n",
    "    document = re.sub(r'\\[Newsmaker\\]', '', document)\n",
    "    document = re.sub(r'\\[Weekender\\]', '', document)\n",
    "    document = re.sub(r'\\(Yonhap\\)', '', document)\n",
    "    document = re.sub(r'\\(AP\\)', '', document)\n",
    "\n",
    "    # document = re.sub(r'\\W', ' ', str(raw_text))\n",
    "    document = re.sub(r'[\\.\\'\\\"\\(\\)]', ' ', str(raw_text))\n",
    "    \n",
    "    # remove all single characters\n",
    "    document = re.sub(r'\\b[a-z]\\b', ' ', document)\n",
    "    \n",
    "    # Remove single characters from the start\n",
    "    document = re.sub(r'\\^[a-zA-Z]\\s+', ' ', document) \n",
    "    \n",
    "    # Substituting multiple spaces with single space\n",
    "    document = re.sub(r'\\s+', ' ', document, flags=re.I)\n",
    "    \n",
    "    # Removing prefixed 'b' - when data is in bytes format\n",
    "    document = re.sub(r'^b\\s+', '', document)\n",
    "\n",
    "    # Replaceing \" - \" with \"-\"\n",
    "    document = re.sub(r'\\s+-\\s+', '-', document)\n",
    "    document = re.sub(r'-\\s+', '-', document)\n",
    "    document = re.sub(r'\\s+-', '-', document)\n",
    "\n",
    "    \n",
    "    # Lemmatization\n",
    "    # document = document.split()\n",
    "\n",
    "    # document = [stemmer.lemmatize(word) for word in document]\n",
    "    # document = ' '.join(document)\n",
    "    \n",
    "    return document"
   ]
  },
  {
   "cell_type": "code",
   "execution_count": 5,
   "metadata": {},
   "outputs": [
    {
     "output_type": "stream",
     "name": "stderr",
     "text": [
      "<ipython-input-5-ce83ac7429ae>:4: SettingWithCopyWarning: \nA value is trying to be set on a copy of a slice from a DataFrame\n\nSee the caveats in the documentation: https://pandas.pydata.org/pandas-docs/stable/user_guide/indexing.html#returning-a-view-versus-a-copy\n  target.title[i] = preprocess_text(target.title[i])\n<ipython-input-5-ce83ac7429ae>:5: SettingWithCopyWarning: \nA value is trying to be set on a copy of a slice from a DataFrame\n\nSee the caveats in the documentation: https://pandas.pydata.org/pandas-docs/stable/user_guide/indexing.html#returning-a-view-versus-a-copy\n  target.body[i] = preprocess_text(target.body[i])\n<ipython-input-5-ce83ac7429ae>:6: SettingWithCopyWarning: \nA value is trying to be set on a copy of a slice from a DataFrame\n\nSee the caveats in the documentation: https://pandas.pydata.org/pandas-docs/stable/user_guide/indexing.html#returning-a-view-versus-a-copy\n  target.description[i] = preprocess_text(target.description[i])\n"
     ]
    }
   ],
   "source": [
    "df = pd.read_csv('data/koreaherald_2017_30_ver.csv')\n",
    "target = df[:][['title', 'description', 'body', 'keyword', 'ne', 'cluster']]\n",
    "for i in range(target.shape[0]):\n",
    "    target.title[i] = preprocess_text(target.title[i])\n",
    "    target.body[i] = preprocess_text(target.body[i])\n",
    "    target.description[i] = preprocess_text(target.description[i])\n",
    "\n",
    "target.to_csv('data/korea_herald_2017_30_ver_preprocessing.csv')"
   ]
  },
  {
   "cell_type": "code",
   "execution_count": null,
   "metadata": {},
   "outputs": [],
   "source": []
  }
 ]
}