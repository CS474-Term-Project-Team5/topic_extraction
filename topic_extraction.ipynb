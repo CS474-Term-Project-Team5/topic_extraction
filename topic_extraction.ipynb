{
 "cells": [
  {
   "cell_type": "code",
   "execution_count": 1,
   "id": "31dd0800",
   "metadata": {},
   "outputs": [],
   "source": [
    "import pandas as pd\n",
    "import re\n",
    "import nltk\n",
    "import pickle\n",
    "from nltk.corpus import stopwords\n",
    "from nltk.stem import WordNetLemmatizer\n",
    "import ast\n",
    "import spacy"
   ]
  },
  {
   "cell_type": "code",
   "execution_count": 2,
   "id": "44e819f3",
   "metadata": {
    "scrolled": true
   },
   "outputs": [
    {
     "output_type": "stream",
     "name": "stderr",
     "text": [
      "[nltk_data] Downloading package stopwords to /root/nltk_data...\n[nltk_data]   Package stopwords is already up-to-date!\n[nltk_data] Downloading package wordnet to /root/nltk_data...\n[nltk_data]   Package wordnet is already up-to-date!\n"
     ]
    }
   ],
   "source": [
    "nltk.download('stopwords')\n",
    "nltk.download('wordnet')\n",
    "stemmer = WordNetLemmatizer()\n"
   ]
  },
  {
   "cell_type": "code",
   "execution_count": 5,
   "id": "4b25b502",
   "metadata": {},
   "outputs": [],
   "source": [
    "target = pd.read_csv('data/ner_tags_2015_ver_1.csv')\n"
   ]
  },
  {
   "cell_type": "code",
   "execution_count": 10,
   "metadata": {},
   "outputs": [],
   "source": [
    "from sklearn.feature_extraction.text import CountVectorizer\n",
    "n_cluster = 15\n",
    "cluster_vector = []\n",
    "cluster_feature = []\n",
    "\n",
    "for i in range(n_cluster):\n",
    "    cluster_idx = target.cluster == i\n",
    "\n",
    "    ne_set = list({ne for ne_list in target[cluster_idx]['ne'] for ne in ast.literal_eval(ne_list)})\n",
    "    ne_id = [id for id in range(len(ne_set))]\n",
    "    vocap = dict(zip(ne_set, ne_id))\n",
    "    \n",
    "    vectorizer = CountVectorizer()\n",
    "    vectorizer.vocabulary = vocap\n",
    "    \n",
    "    X_count = vectorizer.transform(target[cluster_idx].body).toarray()\n",
    "    cluster_vector.append(X_count)\n",
    "    cluster_feature.append(vectorizer.get_feature_names())"
   ]
  },
  {
   "cell_type": "code",
   "execution_count": 11,
   "metadata": {},
   "outputs": [],
   "source": [
    "from sklearn.feature_extraction.text import TfidfTransformer\n",
    "cluster_vector_tfidf = [TfidfTransformer().fit_transform(x).toarray() for x in cluster_vector]\n",
    "df_tfidf = [pd.DataFrame(cluster_vector_tfidf[i], columns= cluster_feature[i])for i in range(n_cluster)]"
   ]
  },
  {
   "cell_type": "code",
   "execution_count": 13,
   "metadata": {},
   "outputs": [],
   "source": [
    "def is_proper(string):\n",
    "    for c in string:\n",
    "        if c.isupper():\n",
    "            return True\n",
    "    return False"
   ]
  },
  {
   "cell_type": "code",
   "execution_count": 14,
   "metadata": {},
   "outputs": [
    {
     "output_type": "stream",
     "name": "stdout",
     "text": [
      "==============topic candidate: 0==============\n",
      "['Marie Harf', 'Global Times', 'Malays Chinese', 'David Cameron', 'Japan Kyodo News', 'North Korea Consensus', 'the Army Air Force', 'RAND Corp', 'Mairead Maguire', 'Hanwha Thales']\n",
      "==============topic candidate: 1==============\n",
      "['UAE', 'the World Bank', 'Kim Jae', 'Park Dae', 'Pyon', 'UNESCO World Heritage Sites', 'Asia Women Fund', 'the United Nations Security Council', 'Lee Byung', 'Korea']\n",
      "==============topic candidate: 2==============\n",
      "['Uijeongbu', 'the Seoul International Women Film Festival Park', 'Navy', 'the Ministry of Environment', 'al Qaida', 'the Ministry of Government Administration', 'jong Hong', 'Stephen Kim', 'Dae', 'the Seoul Northern District Court']\n",
      "==============topic candidate: 3==============\n",
      "['Jonathan Powell', 'AIPS', 'Renault SA', 'the Republic of Korea', 'Peninsula Abe', 'Seungjengwon Ilgi', 'the Academy of Fine Arts', 'Carlos Ghosn', 'the Sky Team', 'Washington Harris']\n",
      "==============topic candidate: 4==============\n",
      "['Yanji', 'Indonesian', 'Justice and Development Party', 'MacIntosh', 'the Constitutional Court they', 'the North Committee', 'Choi Myung', 'Kim Lee', 'Kim Seong', 'the Korean Prosecutors Office']\n",
      "==============topic candidate: 5==============\n",
      "['the Legislation and Judiciary Committee Yang', 'NPAD Rep Jin Sun', 'Maeng Haeng', 'the Korean Teachers and Education Workers Union', 'the Public Administration Ministry', 'Jeong Yong', 'Gaeseong Nestling', 'the National Election Commission', 'Cheonan Jin', 'the Citizens Coalition for Economic Justice Seoul']\n",
      "==============topic candidate: 6==============\n",
      "['Park U', 'Kim', 'Dongguk University', 'Yook Young', 'the S Carter', 'Mirim', 'Carter Kim', 'the Republic of Korea', 'Keangnam Enterprise', 'UAE']\n",
      "==============topic candidate: 7==============\n",
      "['Red Capitalists', 'Gen Joseph Dunford', 'Sino S', 'South Leaflet', 'Gina Maria', 'Stephen Bosworth', 'North Koreans', 'the N Human Rights Council', 'Utah', 'Shin Dong']\n",
      "==============topic candidate: 8==============\n",
      "['the S Army', 'Thai', 'OECD', 'Mirae Asset Securities Co', 'Keangnam Enterprise Ltd', 'the S Central Intelligence Agency', 'the Defense Security Cooperation Agency', 'the Korea Football Association', 'Hungarians', 'Nampo']\n",
      "==============topic candidate: 9==============\n",
      "['SNU', 'Yoon Hee', 'Dae', 'the National Election Commission', 'Yeo Jun', 'Midland Power Co', 'Brussels', 'Kim Choeng', 'the United Arab Emirates', 'Research and Research']\n",
      "==============topic candidate: 10==============\n",
      "['the Korea Herald 2015', 'TOE', 'Geochang High School', 'Stephen Harper', 'the Republic of Korea', 'Chadwick InternationalAs', 'Mirim', 'Winfried Kretschmann', 'Boston', 'St Petersburg']\n",
      "==============topic candidate: 11==============\n",
      "['the University of Seoul Law School', 'Assad', 'Sampson Noble', 'the Johns Hopkins University U Korea Institute', 'Shin Dong', 'Sino S', 'Cho Tae', 'the World Bank', 'Ri Dong', 'Kim soon']\n",
      "==============topic candidate: 12==============\n",
      "['David Cameron', 'Democracy for all Harmonious Democratic Party Inclusive Democratic Party', 'Keiji Fukuda', 'the Korea Society of Educational Studies', 'Rep Steve', 'Education Ministry', 'Modern Korea', 'Shinzo Abe', 'the S Blair', 'Chungju North Chungcheong Province']\n",
      "==============topic candidate: 13==============\n",
      "['Ottawa', 'Yongin Gyeonggi Province', 'Uzbekistan', 'the Military Demarcation Line', 'Jay Jo', 'Choi Suing', 'the World Bank', 'Lee while', 'Yeongam', 'Cho Tae']\n",
      "==============topic candidate: 14==============\n",
      "['Defense for Policy Christine Wormuth', 'Yeo Jun', 'Spokesperson Noh Kwang', 'the SLBM irrespective', 'Zhang Liangui', 'the South Korea Trade and Investment Promotion Agency', 'Lang Lang', 'Adm Gortney', 'Roughead', 'van Lierop']\n",
      "=============================================\n"
     ]
    }
   ],
   "source": [
    "n_cluster = 15\n",
    "for i in range(n_cluster):\n",
    "    # remove word 'cluster'\n",
    "    tf_idf_ne = df_tfidf[i].sum(axis=0).sort_values(ascending=False).keys()\n",
    "    print(\"==============topic candidate: {}==============\".format(i))\n",
    "    result = [i for i in list(tf_idf_ne) if is_proper(i)]\n",
    "    print(result[:10])\n",
    "    # print(list(tf_idf_ne)[:15])\n",
    "print(\"=============================================\")"
   ]
  },
  {
   "cell_type": "code",
   "execution_count": null,
   "metadata": {},
   "outputs": [],
   "source": []
  }
 ],
 "metadata": {
  "kernelspec": {
   "name": "python3.6",
   "display_name": "Python 3.6.13 64-bit ('python3.6': conda)"
  },
  "language_info": {
   "codemirror_mode": {
    "name": "ipython",
    "version": 3
   },
   "file_extension": ".py",
   "mimetype": "text/x-python",
   "name": "python",
   "nbconvert_exporter": "python",
   "pygments_lexer": "ipython3",
   "version": "3.6.13"
  }
 },
 "nbformat": 4,
 "nbformat_minor": 5
}