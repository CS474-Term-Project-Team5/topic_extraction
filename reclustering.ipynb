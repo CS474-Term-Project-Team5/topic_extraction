{
 "metadata": {
  "orig_nbformat": 2,
  "kernelspec": {
   "name": "python3.6",
   "display_name": "python3.6 Kernel",
   "language": "python"
  }
 },
 "nbformat": 4,
 "nbformat_minor": 2,
 "cells": [
  {
   "cell_type": "code",
   "execution_count": 35,
   "metadata": {},
   "outputs": [
    {
     "output_type": "stream",
     "name": "stderr",
     "text": [
      "[nltk_data] Downloading package stopwords to /root/nltk_data...\n[nltk_data]   Package stopwords is already up-to-date!\n[nltk_data] Downloading package wordnet to /root/nltk_data...\n[nltk_data]   Package wordnet is already up-to-date!\n"
     ]
    }
   ],
   "source": [
    "import pandas as pd\n",
    "import re\n",
    "import nltk\n",
    "import pickle\n",
    "from nltk.corpus import stopwords\n",
    "from nltk.stem import WordNetLemmatizer\n",
    "import ast\n",
    "import spacy\n",
    "\n",
    "nltk.download('stopwords')\n",
    "nltk.download('wordnet')\n",
    "stemmer = WordNetLemmatizer()"
   ]
  },
  {
   "cell_type": "code",
   "execution_count": 36,
   "metadata": {},
   "outputs": [],
   "source": [
    "article_2015 = pd.read_csv('data/koreaherald_2015_30_ver.csv')\n",
    "article_2016 = pd.read_csv('data/koreaherald_2016_30_ver.csv')\n",
    "article_2017 = pd.read_csv('data/koreaherald_2017_30_ver.csv')"
   ]
  },
  {
   "cell_type": "code",
   "execution_count": 37,
   "metadata": {
    "tags": []
   },
   "outputs": [],
   "source": [
    "#############################################\n",
    "# 2015 koreaherald article topic extraction #\n",
    "#############################################\n",
    "updated_cluster_2015 = [[0], [1, 13, 16, 19], [2], [3, 5, 11], [4], [6], [7, 8, 9, 23], [8, 9], [10, 12], [14, 28, 29], [15], [17], [18, 24, 26, 27], [20], [21], [22], [25]]\n",
    "\n",
    "for i in updated_cluster_2015:\n",
    "    article_2015.loc[article_2015['cluster'].isin(i), 'cluster'] = i[0]\n",
    "\n",
    "article_2015.to_csv('data/cluster/koreaherald_2015_recluster.csv')\n"
   ]
  },
  {
   "cell_type": "code",
   "execution_count": 38,
   "metadata": {},
   "outputs": [],
   "source": [
    "#############################################\n",
    "# 2016 koreaherald article topic extraction #\n",
    "#############################################\n",
    "updated_cluster_2016 = [[0, 1, 3, 6, 11, 12, 13, 23, 28], [2, 10, 17, 18, 22, 27], [4, 7, 20, 29], [5, 8], [9], [14], [15], [16], [19], [21], [24], [25], [26]]\n",
    "\n",
    "for i in updated_cluster_2016:\n",
    "    article_2016.loc[article_2016['cluster'].isin(i), 'cluster'] = i[0]\n",
    "\n",
    "article_2016.to_csv('data/cluster/koreaherald_2016_recluster.csv')\n"
   ]
  },
  {
   "cell_type": "code",
   "execution_count": 39,
   "metadata": {},
   "outputs": [],
   "source": [
    "#############################################\n",
    "# 2017 koreaherald article topic extraction #\n",
    "#############################################\n",
    "updated_cluster_2017 = [[0], [1, 5, 8, 11, 12, 25, 28], [2, 19], [3], [4, 15], [6], [7, 9, 14, 17, 18, 20, 22, 23, 24], [10], [13], [16], [21], [26], [27], [29]]\n",
    "\n",
    "for i in updated_cluster_2017:\n",
    "    article_2017.loc[article_2017['cluster'].isin(i), 'cluster'] = i[0]\n",
    "\n",
    "article_2017.to_csv('data/cluster/koreaherald_2017_recluster.csv')"
   ]
  }
 ]
}