{
 "metadata": {
  "language_info": {
   "codemirror_mode": {
    "name": "ipython",
    "version": 3
   },
   "file_extension": ".py",
   "mimetype": "text/x-python",
   "name": "python",
   "nbconvert_exporter": "python",
   "pygments_lexer": "ipython3",
   "version": ""
  },
  "orig_nbformat": 2,
  "kernelspec": {
   "name": "python3",
   "display_name": "Python 3.8  ('anaconda3': virtualenv)"
  }
 },
 "nbformat": 4,
 "nbformat_minor": 2,
 "cells": [
  {
   "cell_type": "code",
   "execution_count": 1,
   "metadata": {},
   "outputs": [
    {
     "output_type": "stream",
     "name": "stderr",
     "text": [
      "[nltk_data] Downloading package stopwords to /root/nltk_data...\n[nltk_data]   Package stopwords is already up-to-date!\n[nltk_data] Downloading package wordnet to /root/nltk_data...\n[nltk_data]   Package wordnet is already up-to-date!\n"
     ]
    }
   ],
   "source": [
    "import pandas as pd\n",
    "import re\n",
    "import nltk\n",
    "import pickle\n",
    "from nltk.corpus import stopwords\n",
    "from nltk.stem import WordNetLemmatizer\n",
    "import ast\n",
    "import spacy\n",
    "\n",
    "nltk.download('stopwords')\n",
    "nltk.download('wordnet')\n",
    "stemmer = WordNetLemmatizer()"
   ]
  },
  {
   "cell_type": "code",
   "execution_count": 2,
   "metadata": {},
   "outputs": [],
   "source": [
    "target = pd.read_csv('data/korea_herald_2015_30_ver_preprocessing.csv')\n"
   ]
  },
  {
   "cell_type": "code",
   "execution_count": 7,
   "metadata": {},
   "outputs": [],
   "source": [
    "from sklearn.feature_extraction.text import CountVectorizer\n",
    "\n",
    "updated_cluster = [[0], [1], [2], [3], [4], [5], [6], [7], [8], [9], [10], [11], [12], [13], [14], [15], [16], [17], [18], [19], [20], [21], [22], [23], [24], [25], [26], [27], [28], [29]]\n",
    "cluster_vector = []\n",
    "cluster_feature = []\n",
    "\n",
    "for i in updated_cluster:\n",
    "    cluster = target[target['cluster'].isin(i)]\n",
    "    vectorizer = CountVectorizer(max_features=1500, ngram_range=(3, 6), min_df=5, max_df=0.6, stop_words=stopwords.words('english'))\n",
    "    X_count = vectorizer.fit_transform(cluster.body).toarray()\n",
    "    cluster_vector.append(X_count)\n",
    "    cluster_feature.append(vectorizer.get_feature_names())"
   ]
  },
  {
   "cell_type": "code",
   "execution_count": 8,
   "metadata": {},
   "outputs": [],
   "source": [
    "from sklearn.feature_extraction.text import TfidfTransformer\n",
    "cluster_vector_tfidf = [TfidfTransformer().fit_transform(x).toarray() for x in cluster_vector]\n",
    "df_tfidf = [pd.DataFrame(cluster_vector_tfidf[i], columns=cluster_feature[i]) for i in range(len(updated_cluster))]"
   ]
  },
  {
   "cell_type": "code",
   "execution_count": 9,
   "metadata": {},
   "outputs": [],
   "source": [
    "def preprocessing(rawtext):\n",
    "    document = rawtext\n",
    "    document = re.sub(r'said', '', document)\n",
    "\n",
    "    dates = ['monday', 'tuesday', 'wednesday', 'thursday', 'friday', 'saturday', 'sunday', 'week', 'next', 'month', 'year']\n",
    "    for date in dates:\n",
    "        document = re.sub(r'{}'.format(date), '', document)\n",
    "    \n",
    "    document = re.sub(r'\\s+', ' ', document)\n",
    "    return document\n",
    "    \n",
    "def remove_duplicates(candidates):\n",
    "    result = []\n",
    "    for cand in candidates:\n",
    "        is_duplicate = False\n",
    "        for cand2 in candidates:\n",
    "            if cand == cand2:\n",
    "                continue\n",
    "            if cand in cand2:\n",
    "                is_duplicate = True\n",
    "                break\n",
    "        if not is_duplicate:\n",
    "            result.append(cand)\n",
    "    return result\n",
    "    "
   ]
  },
  {
   "cell_type": "code",
   "execution_count": 10,
   "metadata": {
    "tags": []
   },
   "outputs": [
    {
     "output_type": "stream",
     "name": "stdout",
     "text": [
      "==============topic candidate: [0]==============\n['president park geun hye', 'south korea japan', 'world war ii', 'cheong wa dae', 'foreign ministry said', 'foreign minister yun byung se', 'south korea china', 'said south korea', 'south north korea', 'president barack obama', 'north korea nuclear', '1950 53 korean war', 'japanese prime minister shinzo abe', 'ruling saenuri party', 'middle east respiratory syndrome']\n==============topic candidate: [1]==============\n['president park geun hye', 'south korean military', 'south korea united states', 'joint chiefs staff', 'north korean leader kim jong un', 'korean central news agency', 'inter korean relations', 'north korea nuclear', 'high level talks', 'said north korea', 'south north korea', 'inter korean ties', 'joint military drills', 'long range rocket', 'south korean firms']\n==============topic candidate: [2]==============\n['finance ministry said', 'president park geun hye', 'percent year earlier', 'government said wednesday', 'ruling saenuri party', 'according data compiled', 'greenhouse gas emissions', 'asia fourth largest economy', 'percent last year', 'heeshin heraldcorp com', 'south korean companies', 'south korean government', 'data showed sunday', 'defense acquisition program', 'billion last year']\n==============topic candidate: [3]==============\n['japanese prime minister shinzo abe', 'unesco world heritage', 'president park geun hye', 'comfort women issue', 'japanese colonial rule', 'told korea herald', 'sexual enslavement korean women', 'sexual slavery issue', 'prime minister abe', 'wartime sex slavery', '1910 45 colonial rule', 'japan wartime sexual', '70th anniversary end world war ii', 'world heritage sites', 'former sex slaves']\n==============topic candidate: [4]==============\n['ruling saenuri party', 'cheong wa dae said', 'cho chung un christory heraldcorp com', 'inter korean relations', 'kim moo sung', 'world war ii', 'main opposition new politics alliance democracy', 'north korean leader kim jong un', 'seoul national university', 'south korean president park geun hye', 'middle east respiratory syndrome', 'presidential spokesman min kyung wook', 'said south korea', '1950 53 korean war', 'presidential office said']\n==============topic candidate: [5]==============\n['yoon min sik minsikyoon heraldcorp com', 'ministry official said', 'ruling saenuri party', 'lee hyun jeong rene heraldcorp com', 'claire lee dyc heraldcorp com', 'osan air base', 'president park geun hye', 'middle high schools', 'seoul metropolitan office education', 'year old man', 'middle east respiratory syndrome', 'national police agency', 'ministry officials said', 'police agency said', 'human rights center']\n==============topic candidate: [6]==============\n['world war ii', 'foreign ministry said', 'south korea japan', 'foreign minister yun byung se', 'south korean government', 'north korea nuclear', 'free trade agreement', 'seoul foreign ministry', 'ministry official said', 'japanese prime minister shinzo abe', 'six party talks', 'south korean officials', 'said south korea', 'cheong wa dae', 'north korean leader kim jong un']\n==============topic candidate: [7]==============\n['seoul central district court', 'seoul high court', 'president park geun hye', 'ruling saenuri party', 'national security law', 'year old man', 'lower court ruling', '55 year old', 'claire lee dyc heraldcorp com', 'year old woman', 'national police agency', 'joint chiefs staff', 'lee hyun jeong rene heraldcorp com', 'national intelligence service', 'kim ki jong']\n==============topic candidate: [8]==============\n['president park geun hye', 'ruling saenuri party', 'cheong wa dae', 'main opposition new politics alliance democracy', 'south korea japan', 'kim moo sung', 'world war ii', 'middle east respiratory syndrome', 'main opposition party', 'wage peak system', 'yonhap news agency', 'state history textbooks', 'park approval rating', 'ministry said statement', 'federation korean trade unions']\n==============topic candidate: [9]==============\n['president park geun hye', 'cheong wa dae', 'main opposition party', 'main opposition new politics alliance democracy', 'jeong hunny hj257 heraldcorp com', 'governing saenuri party', 'president barack obama', 'cho chung un christory heraldcorp com', 'rep kim moo sung', 'floor leader rep', 'rep yoo seong min', 'roh moo hyun', 'yeo jun suk jasonyeo heraldcorp com', 'prime minister nominee', 'prime minister lee wan koo']\n==============topic candidate: [10]==============\n['south korean government', 'south korean military', 'islamic state group', 'year old man', 'president park geun hye', 'south korean embassy', 'south korean president', 'cheesuk heraldcorp com', 'middle east respiratory syndrome', 'south korea said', 'south korean man', 'ministry official said', 'said condition anonymity', 'ruling saenuri party', 'news agency said']\n==============topic candidate: [11]==============\n['president park geun hye', 'south korean government', 'islamic state group', '1950 53 korean war', 'north korean defectors', 'leader kim jong un', 'south korean embassy', 'inter korean border', 'south korean nationals', 'north korea said', 'northeastern chinese city', 'world war ii', 'south korean man', 'kilometers south seoul', 'year old man']\n==============topic candidate: [12]==============\n['police said police', 'year old woman', 'lee hyun jeong rene heraldcorp com', 'ruling saenuri party', 'kilometers south seoul', 'exact cause accident', 'accident took place', 'high school students', 'south chungcheong province', 'determine exact cause', 'yeo jun suk', 'south korean man', 'middle east respiratory syndrome', 'took place around', 'rushed nearby hospital']\n==============topic candidate: [13]==============\n['six party talks', 'south korea china', 'south china sea', 'south korea japan', 'cheong wa dae', 'north korea nuclear', 'said north korea', '1950 53 korean war', 'president barack obama', 'north korea china', 'south north korea', 'free trade agreement', 'south korean companies', 'said south korea', 'south korean president park geun hye']\n==============topic candidate: [14]==============\n['president park geun hye', 'ruling saenuri party', 'cheong wa dae', 'world war ii', 'anti pyongyang leaflets', 'main opposition new politics alliance democracy', 'japanese embassy seoul', 'inter korean relations', 'kim moo sung', 'park geun hye administration', 'korean confederation trade unions', 'south north korea', 'lee myung bak', 'ock hyun ju laeticia ock heraldcorp', 'hyun ju laeticia ock heraldcorp com']\n==============topic candidate: [15]==============\n['president park geun hye', 'main opposition new politics alliance democracy', 'cheong wa dae', 'jeong hunny hj257 heraldcorp com', 'yeo jun suk jasonyeo heraldcorp com', 'ahn cheol soo', 'prime minister nominee', 'lee myung bak', 'seoul central district court', 'prime minister lee wan koo', 'floor leader rep', 'rep kim moo sung', 'cho chung un christory heraldcorp com', 'ruling party lawmakers', 'unified progressive party']\n==============topic candidate: [16]==============\n['six party talks', 'song sang ho sshluck heraldcorp com', 'south korea japan', 'north korea nuclear', 'president park geun hye', 'president barack obama', 'said north korea', 'told korea herald', 'north korean leader kim jong un', 'ruling saenuri party', 'missile defense system', 'joint chiefs staff', 'south china sea', 'south korea china', 'north korean nuclear']\n==============topic candidate: [17]==============\n['samsung medical center', 'claire lee dyc heraldcorp com', 'khnews heraldcorp com', 'health ministry said', 'south korea reported', 'said number people', 'ministry agriculture food rural affairs', 'foreign ministry said', 'outbreak south korea', 'south jeolla province', 'year old man', 'number people diagnosed', 'medical center seoul', 'south korea confirmed', 'health authorities said']\n==============topic candidate: [18]==============\n['president park geun hye', 'president barack obama', 'cheong wa dae', 'middle east respiratory syndrome', 'world war ii', 'ruling saenuri party', 'south korea china', 'kilometers south seoul', '1950 53 korean war', 'ministry official said', 'north korea nuclear', 'main opposition new politics alliance democracy', 'inter korean relations', 'north korean leader kim jong un', 'seoul national university']\n==============topic candidate: [19]==============\n['south korean military', 'said south korea', 'said press release', 'said north korea', 'six party talks', 'submarine launched ballistic missile', '38 north said', 'long range rocket', 'north korea nuclear', 'defense ministry said', 'south korea united states', 'northern limit line', 'spoke condition anonymity', 'north korean leader kim jong un', 'agency defense development']\n==============topic candidate: [20]==============\n['foreign ministry said', 'south korea china', 'ministry official said', 'said press release', 'middle east respiratory syndrome', 'said south korea', 'korea meteorological administration', 'world health organization', 'said north korea', 'president park geun hye', 'percent year earlier', 'south korean firms', 'told korea herald', 'asia fourth largest economy', 'claire lee dyc heraldcorp com']\n==============topic candidate: [21]==============\n['president park geun hye', 'joel lee joel heraldcorp com', 'told korea herald', 'joel lee korea herald', 'lee hyun jeong rene heraldcorp com', 'said south korea', 'seoul city government', 'seoul national university', 'city officials said', 'south korea japan', 'claire lee dyc heraldcorp com', 'ministry official said', 'yoon min sik minsikyoon heraldcorp com', 'high school students', 'samsung medical center']\n==============topic candidate: [22]==============\n['president park geun hye', 'claire lee dyc heraldcorp com', 'south korean government', 'leader kim jong un', 'south korea japan', '1950 53 korean war', 'told korea herald', 'north korean defectors', 'inter korean border', 'joel lee joel heraldcorp com', 'world war ii', 'yoon min sik minsikyoon heraldcorp com', 'south korean military', 'lee hyun jeong rene heraldcorp com', 'song sang ho sshluck heraldcorp com']\n==============topic candidate: [23]==============\n['seoul central district court', 'president park geun hye', 'prosecutors said monday', 'seoul high court', 'ruling saenuri party', 'national security law', 'corruption defense industry', 'prosecutors said thursday', 'year jail term', 'upholding lower court ruling', 'incheon international airport', 'lee hyun jeong rene heraldcorp com', 'yoon min sik minsikyoon heraldcorp com', 'prime minister lee wan koo', 'hyun ju laeticia ock heraldcorp com']\n==============topic candidate: [24]==============\n['president park geun hye', 'ruling saenuri party', 'south korean government', 'ministry official said', 'president barack obama', 'world war ii', 'claire lee dyc heraldcorp com', 'told korea herald', 'lee hyun jeong rene heraldcorp com', 'cheong wa dae', 'government official said', 'history textbooks secondary', 'joel lee joel heraldcorp com', 'main opposition new politics alliance democracy', 'national health insurance']\n==============topic candidate: [25]==============\n['president park geun hye', 'south korean government', 'middle east respiratory syndrome', 'north korean leader kim jong un', 'south korea japan', 'north korea nuclear', 'world war ii', 'foreign ministry said', 'ministry official said', 'officials said tuesday', 'ruling saenuri party', 'south korea said', 'south korea china', 'south korean officials', 'north korea said']\n==============topic candidate: [26]==============\n['president barack obama', 'six party talks', 'world war ii', 'north korean leader kim jong un', 'south korea japan', '1950 53 korean war', 'cheong wa dae', 'said south korea', 'north korea nuclear', 'south korea china', 'south korean president park geun hye', 'said north korea', 'foreign minister yun byung se', 'south korean government', 'yonhap news agency']\n==============topic candidate: [27]==============\n['joel lee joel heraldcorp com', 'told korea herald', 'joel lee korea herald', 'kim il sung', 'end world war ii', 'seoul metropolitan government', 'south korea china', 'south korean government', 'south north korea', 'north korean leader kim jong un', 'south korean president park geun hye', 'rene heraldcorp com', 'kim jong il', 'cheong wa dae', 'mark 70th anniversary']\n==============topic candidate: [28]==============\n['claire lee dyc heraldcorp com', 'seoul metropolitan government', 'percent last year', 'percent respondents said', 'percent year earlier', 'showed tuesday according', 'organization economic cooperation development', 'lee hyun jeong rene heraldcorp com', 'percent south koreans', 'aged 65 older', 'report showed tuesday', 'report also showed', 'according data compiled', 'according survey conducted', 'seoul national university']\n==============topic candidate: [29]==============\n['told korea herald', 'world war ii', 'claire lee dyc heraldcorp com', 'middle east respiratory syndrome', 'president park geun hye', 'year old woman', 'samsung medical center', 'lee hyun jeong rene heraldcorp com', 'yeo jun suk', 'world health organization', '40 year old', 'lee myung bak', 'yoon min sik minsikyoon heraldcorp com', 'medical center seoul', 'ministry official said']\n=============================================\n"
     ]
    }
   ],
   "source": [
    "n_cluster = 15\n",
    "\n",
    "def remove_duplicates(candidates):\n",
    "    result = []\n",
    "    for cand in candidates:\n",
    "        is_duplicate = False\n",
    "        for cand2 in candidates:\n",
    "            if cand == cand2:\n",
    "                continue\n",
    "            if cand in cand2:\n",
    "                is_duplicate = True\n",
    "                break\n",
    "        if not is_duplicate:\n",
    "            result.append(cand)\n",
    "    return result\n",
    "\n",
    "for i in range(len(updated_cluster)):\n",
    "    # remove word 'cluster'\n",
    "    tf_idf_ne = df_tfidf[i].sum(axis=0).sort_values(ascending=False).keys()[:100]\n",
    "    print(\"==============topic candidate: {}==============\".format(updated_cluster[i]))\n",
    "    print(remove_duplicates(list(tf_idf_ne))[:15])\n",
    "    # break\n",
    "    # print(list(tf_idf))\n",
    "print(\"=============================================\")"
   ]
  },
  {
   "cell_type": "code",
   "execution_count": null,
   "metadata": {},
   "outputs": [],
   "source": []
  }
 ]
}