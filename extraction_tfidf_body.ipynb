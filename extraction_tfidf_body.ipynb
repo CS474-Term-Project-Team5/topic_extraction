{
 "metadata": {
  "language_info": {
   "codemirror_mode": {
    "name": "ipython",
    "version": 3
   },
   "file_extension": ".py",
   "mimetype": "text/x-python",
   "name": "python",
   "nbconvert_exporter": "python",
   "pygments_lexer": "ipython3",
   "version": "3.6.13"
  },
  "orig_nbformat": 2,
  "kernelspec": {
   "name": "python3.6",
   "display_name": "Python 3.6.13  ('python3.6': conda)"
  }
 },
 "nbformat": 4,
 "nbformat_minor": 2,
 "cells": [
  {
   "cell_type": "code",
   "execution_count": 1,
   "metadata": {},
   "outputs": [
    {
     "output_type": "stream",
     "name": "stderr",
     "text": [
      "[nltk_data] Downloading package stopwords to /root/nltk_data...\n[nltk_data]   Package stopwords is already up-to-date!\n[nltk_data] Downloading package wordnet to /root/nltk_data...\n[nltk_data]   Package wordnet is already up-to-date!\n"
     ]
    }
   ],
   "source": [
    "import pandas as pd\n",
    "import re\n",
    "import nltk\n",
    "import pickle\n",
    "from nltk.corpus import stopwords\n",
    "from nltk.stem import WordNetLemmatizer\n",
    "import ast\n",
    "import spacy\n",
    "\n",
    "nltk.download('stopwords')\n",
    "nltk.download('wordnet')\n",
    "stemmer = WordNetLemmatizer()"
   ]
  },
  {
   "cell_type": "code",
   "execution_count": 3,
   "metadata": {},
   "outputs": [
    {
     "output_type": "error",
     "ename": "FileNotFoundError",
     "evalue": "[Errno 2] No such file or directory: 'data/koreaherald_2015_bow_ver.csv'",
     "traceback": [
      "\u001b[0;31m---------------------------------------------------------------------------\u001b[0m",
      "\u001b[0;31mFileNotFoundError\u001b[0m                         Traceback (most recent call last)",
      "\u001b[0;32m<ipython-input-3-5dff2850fae6>\u001b[0m in \u001b[0;36m<module>\u001b[0;34m\u001b[0m\n\u001b[0;32m----> 1\u001b[0;31m \u001b[0mdf\u001b[0m \u001b[0;34m=\u001b[0m \u001b[0mpd\u001b[0m\u001b[0;34m.\u001b[0m\u001b[0mread_csv\u001b[0m\u001b[0;34m(\u001b[0m\u001b[0;34m'data/koreaherald_2015_bow_ver.csv'\u001b[0m\u001b[0;34m)\u001b[0m\u001b[0;34m\u001b[0m\u001b[0;34m\u001b[0m\u001b[0m\n\u001b[0m\u001b[1;32m      2\u001b[0m \u001b[0mtarget\u001b[0m \u001b[0;34m=\u001b[0m \u001b[0mdf\u001b[0m\u001b[0;34m[\u001b[0m\u001b[0;34m:\u001b[0m\u001b[0;34m]\u001b[0m\u001b[0;34m[\u001b[0m\u001b[0;34m[\u001b[0m\u001b[0;34m'title'\u001b[0m\u001b[0;34m,\u001b[0m \u001b[0;34m'description'\u001b[0m\u001b[0;34m,\u001b[0m \u001b[0;34m'body'\u001b[0m\u001b[0;34m,\u001b[0m \u001b[0;34m'keyword'\u001b[0m\u001b[0;34m,\u001b[0m \u001b[0;34m'cluster'\u001b[0m\u001b[0;34m]\u001b[0m\u001b[0;34m]\u001b[0m\u001b[0;34m\u001b[0m\u001b[0;34m\u001b[0m\u001b[0m\n\u001b[1;32m      3\u001b[0m \u001b[0;32mfor\u001b[0m \u001b[0mi\u001b[0m \u001b[0;32min\u001b[0m \u001b[0mrange\u001b[0m\u001b[0;34m(\u001b[0m\u001b[0mtarget\u001b[0m\u001b[0;34m.\u001b[0m\u001b[0mshape\u001b[0m\u001b[0;34m[\u001b[0m\u001b[0;36m0\u001b[0m\u001b[0;34m]\u001b[0m\u001b[0;34m)\u001b[0m\u001b[0;34m:\u001b[0m\u001b[0;34m\u001b[0m\u001b[0;34m\u001b[0m\u001b[0m\n\u001b[1;32m      4\u001b[0m     \u001b[0mtarget\u001b[0m\u001b[0;34m.\u001b[0m\u001b[0mtitle\u001b[0m\u001b[0;34m[\u001b[0m\u001b[0mi\u001b[0m\u001b[0;34m]\u001b[0m \u001b[0;34m=\u001b[0m \u001b[0mpreprocess_text\u001b[0m\u001b[0;34m(\u001b[0m\u001b[0mtarget\u001b[0m\u001b[0;34m.\u001b[0m\u001b[0mtitle\u001b[0m\u001b[0;34m[\u001b[0m\u001b[0mi\u001b[0m\u001b[0;34m]\u001b[0m\u001b[0;34m)\u001b[0m\u001b[0;34m\u001b[0m\u001b[0;34m\u001b[0m\u001b[0m\n\u001b[1;32m      5\u001b[0m     \u001b[0mtarget\u001b[0m\u001b[0;34m.\u001b[0m\u001b[0mbody\u001b[0m\u001b[0;34m[\u001b[0m\u001b[0mi\u001b[0m\u001b[0;34m]\u001b[0m \u001b[0;34m=\u001b[0m \u001b[0mpreprocess_text\u001b[0m\u001b[0;34m(\u001b[0m\u001b[0mtarget\u001b[0m\u001b[0;34m.\u001b[0m\u001b[0mbody\u001b[0m\u001b[0;34m[\u001b[0m\u001b[0mi\u001b[0m\u001b[0;34m]\u001b[0m\u001b[0;34m)\u001b[0m\u001b[0;34m\u001b[0m\u001b[0;34m\u001b[0m\u001b[0m\n",
      "\u001b[0;32m~/anaconda3/envs/python3.6/lib/python3.6/site-packages/pandas/io/parsers.py\u001b[0m in \u001b[0;36mread_csv\u001b[0;34m(filepath_or_buffer, sep, delimiter, header, names, index_col, usecols, squeeze, prefix, mangle_dupe_cols, dtype, engine, converters, true_values, false_values, skipinitialspace, skiprows, skipfooter, nrows, na_values, keep_default_na, na_filter, verbose, skip_blank_lines, parse_dates, infer_datetime_format, keep_date_col, date_parser, dayfirst, cache_dates, iterator, chunksize, compression, thousands, decimal, lineterminator, quotechar, quoting, doublequote, escapechar, comment, encoding, dialect, error_bad_lines, warn_bad_lines, delim_whitespace, low_memory, memory_map, float_precision)\u001b[0m\n\u001b[1;32m    686\u001b[0m     )\n\u001b[1;32m    687\u001b[0m \u001b[0;34m\u001b[0m\u001b[0m\n\u001b[0;32m--> 688\u001b[0;31m     \u001b[0;32mreturn\u001b[0m \u001b[0m_read\u001b[0m\u001b[0;34m(\u001b[0m\u001b[0mfilepath_or_buffer\u001b[0m\u001b[0;34m,\u001b[0m \u001b[0mkwds\u001b[0m\u001b[0;34m)\u001b[0m\u001b[0;34m\u001b[0m\u001b[0;34m\u001b[0m\u001b[0m\n\u001b[0m\u001b[1;32m    689\u001b[0m \u001b[0;34m\u001b[0m\u001b[0m\n\u001b[1;32m    690\u001b[0m \u001b[0;34m\u001b[0m\u001b[0m\n",
      "\u001b[0;32m~/anaconda3/envs/python3.6/lib/python3.6/site-packages/pandas/io/parsers.py\u001b[0m in \u001b[0;36m_read\u001b[0;34m(filepath_or_buffer, kwds)\u001b[0m\n\u001b[1;32m    452\u001b[0m \u001b[0;34m\u001b[0m\u001b[0m\n\u001b[1;32m    453\u001b[0m     \u001b[0;31m# Create the parser.\u001b[0m\u001b[0;34m\u001b[0m\u001b[0;34m\u001b[0m\u001b[0;34m\u001b[0m\u001b[0m\n\u001b[0;32m--> 454\u001b[0;31m     \u001b[0mparser\u001b[0m \u001b[0;34m=\u001b[0m \u001b[0mTextFileReader\u001b[0m\u001b[0;34m(\u001b[0m\u001b[0mfp_or_buf\u001b[0m\u001b[0;34m,\u001b[0m \u001b[0;34m**\u001b[0m\u001b[0mkwds\u001b[0m\u001b[0;34m)\u001b[0m\u001b[0;34m\u001b[0m\u001b[0;34m\u001b[0m\u001b[0m\n\u001b[0m\u001b[1;32m    455\u001b[0m \u001b[0;34m\u001b[0m\u001b[0m\n\u001b[1;32m    456\u001b[0m     \u001b[0;32mif\u001b[0m \u001b[0mchunksize\u001b[0m \u001b[0;32mor\u001b[0m \u001b[0miterator\u001b[0m\u001b[0;34m:\u001b[0m\u001b[0;34m\u001b[0m\u001b[0;34m\u001b[0m\u001b[0m\n",
      "\u001b[0;32m~/anaconda3/envs/python3.6/lib/python3.6/site-packages/pandas/io/parsers.py\u001b[0m in \u001b[0;36m__init__\u001b[0;34m(self, f, engine, **kwds)\u001b[0m\n\u001b[1;32m    946\u001b[0m             \u001b[0mself\u001b[0m\u001b[0;34m.\u001b[0m\u001b[0moptions\u001b[0m\u001b[0;34m[\u001b[0m\u001b[0;34m\"has_index_names\"\u001b[0m\u001b[0;34m]\u001b[0m \u001b[0;34m=\u001b[0m \u001b[0mkwds\u001b[0m\u001b[0;34m[\u001b[0m\u001b[0;34m\"has_index_names\"\u001b[0m\u001b[0;34m]\u001b[0m\u001b[0;34m\u001b[0m\u001b[0;34m\u001b[0m\u001b[0m\n\u001b[1;32m    947\u001b[0m \u001b[0;34m\u001b[0m\u001b[0m\n\u001b[0;32m--> 948\u001b[0;31m         \u001b[0mself\u001b[0m\u001b[0;34m.\u001b[0m\u001b[0m_make_engine\u001b[0m\u001b[0;34m(\u001b[0m\u001b[0mself\u001b[0m\u001b[0;34m.\u001b[0m\u001b[0mengine\u001b[0m\u001b[0;34m)\u001b[0m\u001b[0;34m\u001b[0m\u001b[0;34m\u001b[0m\u001b[0m\n\u001b[0m\u001b[1;32m    949\u001b[0m \u001b[0;34m\u001b[0m\u001b[0m\n\u001b[1;32m    950\u001b[0m     \u001b[0;32mdef\u001b[0m \u001b[0mclose\u001b[0m\u001b[0;34m(\u001b[0m\u001b[0mself\u001b[0m\u001b[0;34m)\u001b[0m\u001b[0;34m:\u001b[0m\u001b[0;34m\u001b[0m\u001b[0;34m\u001b[0m\u001b[0m\n",
      "\u001b[0;32m~/anaconda3/envs/python3.6/lib/python3.6/site-packages/pandas/io/parsers.py\u001b[0m in \u001b[0;36m_make_engine\u001b[0;34m(self, engine)\u001b[0m\n\u001b[1;32m   1178\u001b[0m     \u001b[0;32mdef\u001b[0m \u001b[0m_make_engine\u001b[0m\u001b[0;34m(\u001b[0m\u001b[0mself\u001b[0m\u001b[0;34m,\u001b[0m \u001b[0mengine\u001b[0m\u001b[0;34m=\u001b[0m\u001b[0;34m\"c\"\u001b[0m\u001b[0;34m)\u001b[0m\u001b[0;34m:\u001b[0m\u001b[0;34m\u001b[0m\u001b[0;34m\u001b[0m\u001b[0m\n\u001b[1;32m   1179\u001b[0m         \u001b[0;32mif\u001b[0m \u001b[0mengine\u001b[0m \u001b[0;34m==\u001b[0m \u001b[0;34m\"c\"\u001b[0m\u001b[0;34m:\u001b[0m\u001b[0;34m\u001b[0m\u001b[0;34m\u001b[0m\u001b[0m\n\u001b[0;32m-> 1180\u001b[0;31m             \u001b[0mself\u001b[0m\u001b[0;34m.\u001b[0m\u001b[0m_engine\u001b[0m \u001b[0;34m=\u001b[0m \u001b[0mCParserWrapper\u001b[0m\u001b[0;34m(\u001b[0m\u001b[0mself\u001b[0m\u001b[0;34m.\u001b[0m\u001b[0mf\u001b[0m\u001b[0;34m,\u001b[0m \u001b[0;34m**\u001b[0m\u001b[0mself\u001b[0m\u001b[0;34m.\u001b[0m\u001b[0moptions\u001b[0m\u001b[0;34m)\u001b[0m\u001b[0;34m\u001b[0m\u001b[0;34m\u001b[0m\u001b[0m\n\u001b[0m\u001b[1;32m   1181\u001b[0m         \u001b[0;32melse\u001b[0m\u001b[0;34m:\u001b[0m\u001b[0;34m\u001b[0m\u001b[0;34m\u001b[0m\u001b[0m\n\u001b[1;32m   1182\u001b[0m             \u001b[0;32mif\u001b[0m \u001b[0mengine\u001b[0m \u001b[0;34m==\u001b[0m \u001b[0;34m\"python\"\u001b[0m\u001b[0;34m:\u001b[0m\u001b[0;34m\u001b[0m\u001b[0;34m\u001b[0m\u001b[0m\n",
      "\u001b[0;32m~/anaconda3/envs/python3.6/lib/python3.6/site-packages/pandas/io/parsers.py\u001b[0m in \u001b[0;36m__init__\u001b[0;34m(self, src, **kwds)\u001b[0m\n\u001b[1;32m   2008\u001b[0m         \u001b[0mkwds\u001b[0m\u001b[0;34m[\u001b[0m\u001b[0;34m\"usecols\"\u001b[0m\u001b[0;34m]\u001b[0m \u001b[0;34m=\u001b[0m \u001b[0mself\u001b[0m\u001b[0;34m.\u001b[0m\u001b[0musecols\u001b[0m\u001b[0;34m\u001b[0m\u001b[0;34m\u001b[0m\u001b[0m\n\u001b[1;32m   2009\u001b[0m \u001b[0;34m\u001b[0m\u001b[0m\n\u001b[0;32m-> 2010\u001b[0;31m         \u001b[0mself\u001b[0m\u001b[0;34m.\u001b[0m\u001b[0m_reader\u001b[0m \u001b[0;34m=\u001b[0m \u001b[0mparsers\u001b[0m\u001b[0;34m.\u001b[0m\u001b[0mTextReader\u001b[0m\u001b[0;34m(\u001b[0m\u001b[0msrc\u001b[0m\u001b[0;34m,\u001b[0m \u001b[0;34m**\u001b[0m\u001b[0mkwds\u001b[0m\u001b[0;34m)\u001b[0m\u001b[0;34m\u001b[0m\u001b[0;34m\u001b[0m\u001b[0m\n\u001b[0m\u001b[1;32m   2011\u001b[0m         \u001b[0mself\u001b[0m\u001b[0;34m.\u001b[0m\u001b[0munnamed_cols\u001b[0m \u001b[0;34m=\u001b[0m \u001b[0mself\u001b[0m\u001b[0;34m.\u001b[0m\u001b[0m_reader\u001b[0m\u001b[0;34m.\u001b[0m\u001b[0munnamed_cols\u001b[0m\u001b[0;34m\u001b[0m\u001b[0;34m\u001b[0m\u001b[0m\n\u001b[1;32m   2012\u001b[0m \u001b[0;34m\u001b[0m\u001b[0m\n",
      "\u001b[0;32mpandas/_libs/parsers.pyx\u001b[0m in \u001b[0;36mpandas._libs.parsers.TextReader.__cinit__\u001b[0;34m()\u001b[0m\n",
      "\u001b[0;32mpandas/_libs/parsers.pyx\u001b[0m in \u001b[0;36mpandas._libs.parsers.TextReader._setup_parser_source\u001b[0;34m()\u001b[0m\n",
      "\u001b[0;31mFileNotFoundError\u001b[0m: [Errno 2] No such file or directory: 'data/koreaherald_2015_bow_ver.csv'"
     ]
    }
   ],
   "source": [
    "df = pd.read_csv('data/korea_herald_2015.csv')\n",
    "target = df[:][['title', 'description', 'body', 'keyword', 'cluster']]\n",
    "for i in range(target.shape[0]):\n",
    "    target.title[i] = preprocess_text(target.title[i])\n",
    "    target.body[i] = preprocess_text(target.body[i])\n",
    "    target.description[i] = preprocess_text(target.description[i])\n"
   ]
  },
  {
   "cell_type": "code",
   "execution_count": 16,
   "metadata": {},
   "outputs": [],
   "source": [
    "from sklearn.feature_extraction.text import CountVectorizer\n",
    "n_cluster = 15\n",
    "cluster_vector = []\n",
    "cluster_feature = []\n",
    "for i in range(n_cluster):\n",
    "    cluster_idx = target.cluster == i\n",
    "    vectorizer = CountVectorizer(max_features=1500, ngram_range=(, 6), min_df=5, max_df=0.7, stop_words=stopwords.words('english'))\n",
    "    X_count = vectorizer.fit_transform(target[cluster_idx].body).toarray()\n",
    "    cluster_vector.append(X_count)\n",
    "    cluster_feature.append(vectorizer.get_feature_names())"
   ]
  },
  {
   "cell_type": "code",
   "execution_count": 17,
   "metadata": {},
   "outputs": [],
   "source": [
    "from sklearn.feature_extraction.text import TfidfTransformer\n",
    "cluster_vector_tfidf = [TfidfTransformer().fit_transform(x).toarray() for x in cluster_vector]\n",
    "df_tfidf = [pd.DataFrame(cluster_vector_tfidf[i], columns= cluster_feature[i])for i in range(n_cluster)]"
   ]
  },
  {
   "cell_type": "code",
   "execution_count": 21,
   "metadata": {},
   "outputs": [
    {
     "output_type": "execute_result",
     "data": {
      "text/plain": [
       "'higher medical costs ,much higher medical costs ,higher medical costs if ,thursday the welfare ministry ,emergency patients will face'"
      ]
     },
     "metadata": {},
     "execution_count": 21
    }
   ],
   "source": [
    "df.keyword[3]"
   ]
  },
  {
   "cell_type": "code",
   "execution_count": 109,
   "metadata": {},
   "outputs": [],
   "source": [
    "def preprocessing(rawtext):\n",
    "    document = rawtext\n",
    "    document = re.sub(r'said', '', document)\n",
    "\n",
    "    dates = ['monday', 'tuesday', 'wednesday', 'thursday', 'friday', 'saturday', 'sunday', 'week', 'next', 'month', 'year']\n",
    "    for date in dates:\n",
    "        document = re.sub(r'{}'.format(date), '', document)\n",
    "    \n",
    "    document = re.sub(r'\\s+', ' ', document)\n",
    "    return document\n",
    "    \n",
    "def remove_duplicates(candidates):\n",
    "    result = []\n",
    "    for cand in candidates:\n",
    "        is_duplicate = False\n",
    "        for cand2 in candidates:\n",
    "            if cand == cand2:\n",
    "                continue\n",
    "            if cand in cand2:\n",
    "                is_duplicate = True\n",
    "                break\n",
    "        if not is_duplicate:\n",
    "            result.append(cand)\n",
    "    return result\n",
    "    "
   ]
  },
  {
   "cell_type": "code",
   "execution_count": 111,
   "metadata": {
    "tags": []
   },
   "outputs": [
    {
     "output_type": "stream",
     "name": "stdout",
     "text": [
      "==========[0]==========\n",
      "['president park geun', 'south korea korea', 'south korean president', 'day south korea', 'north korea nuclear', 'reform south korea', 'pentagon press secretary', 'south korea south korea', 'south korea last', 'reform president park', 'capsized fishing boat', 'korean president park', 'fourth largest economy', 'third largest steelmaker', '2015 world science', 'daejeon 2015 world', 'annual landing drill', 'four new patients', 'guard helicopter crashed', 'anti pyongyang leaflets', 'north korea north korea', 'korea top financial regulator', 'president south korea', 'fatalities occurring since', 'asia fourth largest', 'corruption president park', 'new attack submarine', 'joint military drills', 'fishing boat capsized', 'talks south korea', 'south korean firms', 'president park reform', 'college entrance exam', 'aid south korea', 'south korea top', 'change conference president', 'south korea second largest', 'test free semester', 'fifth largest shareholder', 'south korea new', 'respiratory syndrome bringing', 'rekindle dog meat', 'anti north korea', 'sunken ferry south', 'since korea reports new', 'east respiratory syndrome', 'south korea antitrust', 'meeting daejeon 2015', 'north korea korea', 'official south korea']\n",
      "==========[1, 2, 13]==========\n",
      "['japanese prime minister', 'japan wartime sexual slavery', 'enslavement korean women', 'japan wartime sex slavery', 'sex slavery issue', 'korean college students', 'south korea japan', 'korean women forced', 'japan sex slavery', 'wartime sex slaves', 'japan wartime sexual enslavement', 'sexual slavery japanese', 'wwii sex slaves', 'korean women japan', 'korean sex slaves sex slaves', 'slavery japanese soldiers', 'president barack obama', 'sexual enslavement korean', 'sex slave dies', 'sex slavery japan', 'sex slavery dies', 'japanese military sexual', 'retired japanese ambassador', 'wartime korean slave labor', 'slave labor japan', 'second japanese hostage', 'killing japanese hostage', 'upcoming war anniversary', 'resolve sex slavery', 'japanese hostage killing', 'war anniversary statement', 'japan president park geun', 'korean women sex', 'president park geun south korean', 'lawmakers including reps', 'korean wartime sex', 'south korean sex slaves', 'south korean woman', 'nuclear envoy left', 'north korea nuclear', 'korean women korean women', 'korean parents korean parents', 'wife korean man', 'korean president japan', 'another japanese hostage', 'korean president park geun south', 'slovakia south korean', 'slavery sex slavery', 'slavery issue president', 'japanese coal mine']\n",
      "==========[3]==========\n",
      "['seoul seoul seoul', 'killing wife daughters', 'seoul seoul city', 'massive illegal kickbacks', 'massive protest rally', 'stage winter drills', 'suspended olympic swimming olympic swimming', 'acquitted former seoul', 'south korean president park', 'gas factory fire', 'seoul killing two', 'seoul ranked 27th', 'seoul city government', 'reopening seoul city', 'president park seoul', 'projects prosecutors raided', 'oil firm raided', 'two injured shooting', 'fourth largest economy', 'wife daughters runaway', 'seoul foreign minister', 'olympic swimming champion', 'corruption prosecutors raided', 'south korean college', 'korean teenager seoul', 'lawmaker urges seoul', 'korean sex workers', 'rally downtown seoul', 'charges seoul court', 'seoul city mayor', 'library faces shutdown', 'spat seoul mayor', 'concerns sharply escalated', 'pyeongchang winter olympics', 'complicate seoul strategic', 'korean president park geun', '114 women murdered', 'successful winter olympics', 'subway massive deficit', 'lotte reopening seoul', 'southeastern seoul skyscraper', 'korean officials spewing', 'school sexual harassment', 'seoul city annual', 'seoul court sentenced', 'hurting teenage girls', 'seoul education superintendent', 'seoul educator fined', 'seoul mayor park seoul', 'selling four apartments']\n",
      "==========[4]==========\n",
      "['visited korea last', '70th anniversary korea', 'president park geun', 'refugees korea refugees korea', 'moon meeting president', 'math classes plan', 'annual council meeting', 'korea denounces obama', 'fourth nuclear test', 'prosecutors arrested nigerian', 'rape woman charged', 'rapidly aging population', 'mongolian gala concert', 'korea big eyes korea', 'billion dollar battle', 'anniversary korea korea', 'danish open sandwiches', 'danish green solutions', 'carnival meets korean', 'interview educating girls', 'graduation album photos', 'chief denies spying', 'russia declare 2015', 'omilanowska visited korea', 'korea first lesbian', 'korea refugees korea korea hardships', 'economy grew university', 'north korea korea', 'korean law firm', 'piano unification piano', '1st gay politician', 'entrance exam entrance exam', 'ex president kim', 'korea last korea last', 'korea herald last', 'ministry 2013 data', 'three nuclear tests', 'tripled since 2006 number', 'taking graduation album', 'systematic recycling drive', 'virus patients receiving morning five', 'surge 200 ly sex crimes', 'tourism seoul city', 'urged south koreans', 'university sex crimes', 'total mers hit', 'unification piano made', 'tourism visited korea', 'un aunt removed aunt', 'typhoon 12th typhoon']\n",
      "==========[5]==========\n",
      "['proposed holding referendum', 'anti corruption law', 'bill rival parties', 'party tables impeachment', 'toughest ever law', 'memoir former president', 'cruise businesses expansion', 'lawmaker aide raided', 'trade unions stage rally', 'parliamentary approval parliamentary', 'unions stage rally opposing', 'parliamentary sessions protest', 'law corruption law', 'korean lesbian gay', '000 south korean', 'lawmakers 139 voted', 'june extraordinary session', 'snowballing corruption scandal', 'main opposition party', 'lawmakers unilaterally approve', 'lawmakers unilaterally opened budget', 'rival parties pass', 'rival parties approved', 'rival parties agreed', 'resolution condemning tokyo', 'never monitored citizens', 'president funeral park', 'major reforms labor', 'lawmakers abstaining 35 lawmakers abstaining', 'higher unemployment benefits', 'illegal political funds', 'whip urges constitutional', 'harassing golf caddie', 'attending lawmakers 139', 'defeating former maritime', 'cut extra budget', 'controversial bill lawmakers demand changes', 'government recent reform', 'controversial anti corruption bill', 'chief denies monitoring', 'assembly review lawmakers', 'disciplinary committee lawmaker', 'assembly bill rival', 'assembly approved assembly', 'april general elections', 'approves tax refund', 'approved nominee approved', '184 lawmakers voted', 'demands ex president', 'passed resolution condemning']\n",
      "==========[6]==========\n",
      "['president park geun hye', 'park approval rating', 'korean president south korean president', 'south korean president south korean', 'job approval rating', 'korean president park geun', 'protests sparks backlash', 'president park korean', 'education president park', 'donate 20 million donate 20', 'g20 apec asean', 'south korean olympic', 'south korean president korean president', 'meeting presidential spokesman', 'meticulous strict boss', 'state history textbooks', 'mulls attending china', 'tax hike president', 'ties president park', 'olympic swimming champion', 'washington south korean president', 'tycoon pardons president', 'president president park geun', 'america tour president park', 'president south korean president park', '10 experts disapprove', '20 million donate 20 million', 'president justin trudeau agreed park', 'president bribery scandal president', 'presidential document fake', 'south korean president park four', 'poll poll showed poll parliamentary', 'summits president park geun', 'police day president', 'party leaders reform bills president', 'south korea presidential', 'poll showed poll parliamentary elections', 'sustainability questions president', 'suspended olympic champ', 'two ministers new senior', 'turkey summit malaysia', 'trudeau climate change president climate', 'trudeau agreed park trudeau climate', 'tour south korean', 'president korean president park', 'tour president park colombia', 'president tax hikes lashing', 'textbooks political disputes', 'textbook row president', 'president barack obama']\n",
      "==========[7, 8, 11]==========\n",
      "['president barack obama', 'north korea north korea', 'south korean president park', 'north korean defectors', 'runner donald trump', '30 female activists', 'south korea korea', 'widow former president', 'urged north korea', 'fourth nuclear test', 'chief nuclear envoy', 'submarine launched ballistic missile', 'korea evolving nuclear', 'family reunions korean', 'north korea korean', 'denounced north korea', 'korea chief nuclear', 'korea south korea', 'wages north korea', 'korea nuclear talks', 'north korea threatened', 'korean president park geun', 'president park korean', 'anti pyongyang leaflets', 'talks north korea', 'korean provocations president', 'korean first lady', 'korea nuclear korea', 'north korea fired', 'korean soldier defected', 'park dinner washington', 'military parade military parade', 'south korean president korean president', 'expert north korea', 'park obama summit', 'south korean government', 'south korean firms', 'korea nuclear program', 'korean nuclear standoff', 'korea threatened korea', 'unilateral wage hike', 'korean family reunions', 'annual military drills', 'north korean north', 'korea president park', 'north north korea', 'nuclear tests suspend nuclear tests', 'north korean official', 'president south korean president', 'president park south']\n",
      "==========[9]==========\n",
      "['main opposition new politics', 'president park geun hye', 'killing four workers', '2012 presidential election', 'state history textbook', 'main opposition party', 'ruling party lawmaker', 'capsized fishing boat', 'professors oppose gov', 'education history textbooks', 'probe prosecutors raided', 'government data showed', 'south korean government', 'recent political scandal', 'former president lee', 'deadly ferry sinking', 'ly cabinet meeting', 'morning four patients', 'leaked presidential documents', 'accused president accused president', 'recent graft scandal', 'new politics alliance', 'two koreas failed', 'government anti corruption', 'opposition lawmakers quit', 'history textbooks history textbooks', 'president barack obama', '2017 presidential election', 'bribery scandal president', 'teen smartphone addiction', 'history textbooks secondary', 'president park new', 'bribery provincial governor', 'opposition party lawmaker', 'percent ly poll', 'leftist lawmakers party immediate demise', 'korean war veterans', 'plague universities last', 'korean air heiress', 'president president park', 'bribery former police', 'seoul high court', 'opposition lawmakers opposition', 'rival parties agreed', 'ever army academy', 'korean medical book', 'kills injures grenade', 'found dead found dead', 'korean president park geun', 'presidential election prosecutors']\n",
      "==========[10]==========\n",
      "['president park geun', 'military parade china', 'military parade military parade', 'korea chinese president', 'north korea nuclear', 'largest online bookstore', 'army deserter killed', 'ginseng chicken soup', 'fishing ships illegally', 'chinese war dead', 'chinese soldiers killed', 'korean army deserter', 'korean man flew', 'killed four korean', '000 chinese tourists', 'military parade marking', 'new chinese ambassador', 'quarantined 88 people', 'seminar starting seminar', 'upcoming military parade', 'war dead chinese', 'chinese president xi', 'warns korean journalists', 'anticipated military parade', 'reopen party talks', 'soldiers killed chinese war', 'ships fishing illegally', 'seoul agreeing seoul', 'accident bus accident', 'replaces key party', 'recovery two chinese', 'stalled nuclear talks', 'annual trade fair trade', 'president military parade', 'nuclear free korean', 'parade marking china', 'old korean man mers patient', 'south korean president', 'summit highlights isolation', 'parade chinese military parade', 'top north korean', 'treasure top north', 'trade fair trade fair', 'trade fair roughly', 'tourists disappeared chinese tourists', 'tourists chinese visitors', 'tourism south korea', 'three killed three chinese citizens', 'suspend nuclear tests', 'three chinese citizens deserters kill']\n",
      "==========[12]==========\n",
      "['south korea korea', 'south korean president', 'president park geun', 'south korea seoul', 'summer universiade president', 'annual major drills', 'north korean leader', 'korean fishermen rescued', 'korean foreign minister', 'new nuclear reactors', 'new nuclear new nuclear', 'south korean foreign', 'south seoul washington', 'north korea korea', 'top american diplomat', 'joint military drills', 'south korea unification', 'may hamper seoul', 'suspend nuclear tests', 'drills annual major', 'talks south korea', 'military drills korea', 'controversial cable car', 'seoul foreign minister', 'expressway connecting seoul', 'family reunions seoul', 'fatal tick virus', 'fighter project south', 'seoul led eurasia', 'summer universiade summer universiade', 'state berated seoul', 'south korea talks', 'foreign minister yun', 'upcoming summer universiade', 'reform fails president', 'artillery targeting seoul', '1974 nuclear energy', 'korean nuclear issue', 'korea north korea', 'annual defense talks', 'attempted murder charges', 'annual cyber security', 'seoul top diplomat', '2030 south korea', 'koreas continue war', 'arrest daycare teacher', 'unification south korea', 'south korea south korea', 'women cancer mortality', '1998 passed away']\n",
      "==========[14]==========\n",
      "['south korean president park', 'fair annual trade fair', 'falling global prices', 'hopes korea china', 'korea china summit', 'china launched china launched china', 'nuclear talks china resume korea', 'korea nuclear talks china', 'largest arms exporter', 'ministers meeting postponed', 'north korea korea', 'korean ambassador vows', 'korean ambassador china', 'koreas unification president', 'reciprocate trip seoul', 'rejects garlic imports', 'resume korea nuclear talks', 'recently visiting china', 'talks china resume korea nuclear', 'says iran deal', 'rivalry french china rivalry', 'president park visit china', 'rivalry though seoul', 'seoul dilemma deepens', 'south korean government', 'south korean foreign', 'south korean businessmen korean', 'speaker meets china', 'slowing economic china slowing', 'surpassed 10 million', 'since 2009 china', 'ship sinking victims', 'seoul police old suspected drug', 'seoul later ministry china china', 'korean drug offenders', 'korean president park geun', 'memorial parade china', 'migrant wives 534 migrant wives', 'military parade china military', 'military parade last', 'military parade president', 'parade china military parade', 'ministry china china launched china', 'old suspected drug lord', 'neighbors nervous china', 'new korea director new korea', 'new korean ambassador', 'nuclear program unilaterally', 'north korea china', 'north korean anthracite']\n",
      "======================\n"
     ]
    }
   ],
   "source": [
    "updated_cluster = [[0], [1, 2, 13], [3], [4], [5], [6], [7, 8, 11], [9], [10], [12], [14]]\n",
    "\n",
    "for i in updated_cluster:\n",
    "    keyword_set = target[target['cluster'].isin(i)].keyword\n",
    "    keyword_set = [preprocessing(keyword) for keyword_list in keyword_set for keyword in keyword_list]\n",
    "    ketword_text = ''.join(keyword_set)\n",
    "\n",
    "    vectorizer = CountVectorizer(max_features=1500, ngram_range=(3, 5), min_df=0.7, max_df=5, stop_words=stopwords.words('english'))\n",
    "    X_count = vectorizer.fit_transform([preprocessing(ketword_text)]).toarray()\n",
    "\n",
    "    result = pd.DataFrame(X_count, columns= vectorizer.get_feature_names())\n",
    "    result = list(result.sum(axis=0).sort_values(ascending=False).keys())[:100]\n",
    "\n",
    "    print('=========={}=========='.format(i))\n",
    "    print(remove_duplicates(result)[:50])\n",
    "print('======================')\n",
    "\n"
   ]
  },
  {
   "cell_type": "code",
   "execution_count": 18,
   "metadata": {
    "tags": []
   },
   "outputs": [
    {
     "output_type": "stream",
     "name": "stdout",
     "text": [
      "==============topic candidate: 0==============\n['president park geun hye', 'said south korea', 'middle east respiratory syndrome', 'south korea said', 'south korea top', 'foreign ministry said', 'south korea japan', 'ruling saenuri party', '1950 53 korean war', 'south korea united states']\n==============topic candidate: 1==============\n['japanese prime minister shinzo abe', 'president park geun hye', 'japan colonial rule', 'wartime sexual slavery', '50th anniversary normalization', 'japan 1910 45 colonial rule', 'sexual enslavement korean women', 'world heritage committee', 'relations south korea', 'south korean government']\n==============topic candidate: 2==============\n['south korea japan', 'japanese prime minister shinzo abe', 'south korea china', 'islamic state group', 'collective self defense', 'prime minister abe', '70th anniversary end world war ii', 'comfort women issue', 'cheong wa dae', 'foreign minister yun byung se']\n==============topic candidate: 3==============\n['seoul metropolitan government', 'president park geun hye', 'lee hyun jeong rene heraldcorp com', 'seoul central district court', 'kilometers south seoul', 'song sang ho sshluck heraldcorp com', 'told korea herald', 'seoul mayor park soon', 'middle east respiratory syndrome', 'cheong wa dae']\n==============topic candidate: 4==============\n['joel lee joel heraldcorp com', 'told korea herald', 'joel lee korea herald', 'president park geun hye', 'claire lee dyc heraldcorp com', 'seoul national university', 'yoon min sik minsikyoon heraldcorp com', 'middle east respiratory syndrome', 'lee hyun jeong rene heraldcorp com', 'cheong wa dae']\n==============topic candidate: 5==============\n['president park geun hye', 'main opposition new politics alliance democracy', 'main opposition party', 'national assembly thursday', 'party main opposition new politics alliance', 'passed national assembly', 'national assembly passed', 'saenuri party main opposition new politics', 'cheong wa dae', 'ruling saenuri party main opposition new']\n==============topic candidate: 6==============\n['ruling saenuri party', 'main opposition new politics alliance democracy', 'cheong wa dae said', 'kim moo sung', 'south korean president park geun hye', 'north gyeongsang province', 'cho chung un christory heraldcorp com', '1950 53 korean war', 'park office said', 'presidential spokesman min kyung wook']\n==============topic candidate: 7==============\n['president barack obama', 'south korea japan', 'six party talks', 'north korea nuclear', 'missile defense system', 'south korea alliance', 'secretary state john kerry', '1950 53 korean war', 'world war ii', 'terminal high altitude area defense']\n==============topic candidate: 8==============\n['north korean leader kim jong un', 'kim il sung', 'said north korea', 'president park geun hye', '1950 53 korean war', 'inter korean relations', 'ruling workers party', 'long range rocket', 'north korean defectors', 'six party talks']\n==============topic candidate: 9==============\n['president park geun hye', 'ruling saenuri party', 'cheong wa dae', 'main opposition new politics alliance democracy', 'yoon min sik minsikyoon heraldcorp com', 'middle east respiratory syndrome', 'lee hyun jeong rene heraldcorp com', 'claire lee dyc heraldcorp com', 'main opposition party', 'told korea herald']\n==============topic candidate: 10==============\n['south korea china', 'north korea china', 'chinese president xi jinping', 'six party talks', 'china foreign ministry', 'chinese communist party', 'according south korean', '1950 53 korean war', 'percent year ago', 'china south korea']\n==============topic candidate: 11==============\n['said north korea', 'south north korea', 'north korea nuclear', 'president park geun hye', 'six party talks', 'korean central news agency', 'north korea said', 'long range rocket', 'north korean leader kim jong un', 'submarine launched ballistic missile']\n==============topic candidate: 12==============\n['south korea japan', 'said south korea', 'kilometers south seoul', 'south korean government', 'south korea top', 'seoul foreign ministry said', 'foreign minister yun byung se', 'south korea united states', 'said press release', 'ministry official said']\n==============topic candidate: 13==============\n['claire lee dyc heraldcorp com', 'told korea herald', 'joel lee joel heraldcorp com', 'president park geun hye', 'lee hyun jeong rene heraldcorp com', 'world war ii', 'south korean embassy', 'year old korean', 'foreign ministry said', 'hyun ju laeticia ock heraldcorp com']\n==============topic candidate: 14==============\n['north korea china', 'president park geun hye', 'six party talks', 'south china sea', 'north korea nuclear', 'chinese president xi jinping', 'border north korea', 'said north korea', 'free trade agreement', 'south korean firms']\n=============================================\n"
     ]
    }
   ],
   "source": [
    "n_cluster = 15\n",
    "\n",
    "def remove_duplicates(candidates):\n",
    "    result = []\n",
    "    for cand in candidates:\n",
    "        is_duplicate = False\n",
    "        for cand2 in candidates:\n",
    "            if cand == cand2:\n",
    "                continue\n",
    "            if cand in cand2:\n",
    "                is_duplicate = True\n",
    "                break\n",
    "        if not is_duplicate:\n",
    "            result.append(cand)\n",
    "    return result\n",
    "\n",
    "for i in range(n_cluster):\n",
    "    # remove word 'cluster'\n",
    "    tf_idf_ne = df_tfidf[i].sum(axis=0).sort_values(ascending=False).keys()[:100]\n",
    "    print(\"==============topic candidate: {}==============\".format(i))\n",
    "    print(remove_duplicates(list(tf_idf_ne))[:10])\n",
    "    # break\n",
    "    # print(list(tf_idf))\n",
    "print(\"=============================================\")"
   ]
  },
  {
   "cell_type": "code",
   "execution_count": null,
   "metadata": {},
   "outputs": [],
   "source": []
  }
 ]
}